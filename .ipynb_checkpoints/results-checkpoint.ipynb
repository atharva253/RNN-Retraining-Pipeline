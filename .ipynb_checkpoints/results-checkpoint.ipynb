{
 "cells": [
  {
   "cell_type": "code",
   "execution_count": 1,
   "id": "b4d4c563-0ad6-4bc3-a268-a0aa21604508",
   "metadata": {
    "execution": {
     "iopub.execute_input": "2022-02-08T04:07:31.154046Z",
     "iopub.status.busy": "2022-02-08T04:07:31.153366Z",
     "iopub.status.idle": "2022-02-08T04:07:31.954733Z",
     "shell.execute_reply": "2022-02-08T04:07:31.953998Z"
    },
    "tags": []
   },
   "outputs": [],
   "source": [
    "import orchest\n",
    "import math\n",
    "import matplotlib.pyplot as plt\n",
    "from sklearn.metrics import mean_squared_error\n",
    "import numpy as np"
   ]
  },
  {
   "cell_type": "code",
   "execution_count": 2,
   "id": "dd35a721-529e-489a-8222-3fb46524430d",
   "metadata": {
    "execution": {
     "iopub.execute_input": "2022-02-08T04:07:31.965646Z",
     "iopub.status.busy": "2022-02-08T04:07:31.965021Z",
     "iopub.status.idle": "2022-02-08T04:07:36.272161Z",
     "shell.execute_reply": "2022-02-08T04:07:36.272830Z"
    }
   },
   "outputs": [
    {
     "name": "stderr",
     "output_type": "stream",
     "text": [
      "2022-02-08 04:07:32.114561: W tensorflow/stream_executor/platform/default/dso_loader.cc:64] Could not load dynamic library 'libcudart.so.11.0'; dlerror: libcudart.so.11.0: cannot open shared object file: No such file or directory\n",
      "2022-02-08 04:07:32.114613: I tensorflow/stream_executor/cuda/cudart_stub.cc:29] Ignore above cudart dlerror if you do not have a GPU set up on your machine.\n",
      "2022-02-08 04:07:33.986015: W tensorflow/stream_executor/platform/default/dso_loader.cc:64] Could not load dynamic library 'libcuda.so.1'; dlerror: libcuda.so.1: cannot open shared object file: No such file or directory\n",
      "2022-02-08 04:07:33.986069: W tensorflow/stream_executor/cuda/cuda_driver.cc:269] failed call to cuInit: UNKNOWN ERROR (303)\n",
      "2022-02-08 04:07:33.986096: I tensorflow/stream_executor/cuda/cuda_diagnostics.cc:156] kernel driver does not appear to be running on this host (220e63755134): /proc/driver/nvidia/version does not exist\n",
      "2022-02-08 04:07:33.986316: I tensorflow/core/platform/cpu_feature_guard.cc:151] This TensorFlow binary is optimized with oneAPI Deep Neural Network Library (oneDNN) to use the following CPU instructions in performance-critical operations:  AVX2 FMA\n",
      "To enable them in other operations, rebuild TensorFlow with the appropriate compiler flags.\n"
     ]
    }
   ],
   "source": [
    "inputs = orchest.get_inputs()\n",
    "model = inputs[\"model\"]\n",
    "trainX, trainY, testX, testY = inputs[\"XY_data\"]"
   ]
  },
  {
   "cell_type": "code",
   "execution_count": 3,
   "id": "908a611d-9dc4-4195-8321-e867cb5755f6",
   "metadata": {
    "execution": {
     "iopub.execute_input": "2022-02-08T04:07:36.288494Z",
     "iopub.status.busy": "2022-02-08T04:07:36.287498Z",
     "iopub.status.idle": "2022-02-08T04:07:36.609154Z",
     "shell.execute_reply": "2022-02-08T04:07:36.608680Z"
    }
   },
   "outputs": [],
   "source": [
    "train_predict = model.predict(trainX)\n",
    "test_predict = model.predict(testX)"
   ]
  },
  {
   "cell_type": "code",
   "execution_count": 4,
   "id": "5d20afe8-d5fc-49b1-92e2-c26f2444c432",
   "metadata": {
    "execution": {
     "iopub.execute_input": "2022-02-08T04:07:36.623811Z",
     "iopub.status.busy": "2022-02-08T04:07:36.622934Z",
     "iopub.status.idle": "2022-02-08T04:07:36.627522Z",
     "shell.execute_reply": "2022-02-08T04:07:36.626968Z"
    }
   },
   "outputs": [
    {
     "name": "stdout",
     "output_type": "stream",
     "text": [
      "Train RMSE: 0.060 RMSE\n",
      "Test RMSE: 0.078 RMSE\n"
     ]
    }
   ],
   "source": [
    "# Error of predictions\n",
    "train_rmse = math.sqrt(mean_squared_error(trainY, train_predict))\n",
    "test_rmse = math.sqrt(mean_squared_error(testY, test_predict))\n",
    "# Print RMSE\n",
    "print('Train RMSE: %.3f RMSE' % (train_rmse))\n",
    "print('Test RMSE: %.3f RMSE' % (test_rmse))  \n",
    "\n"
   ]
  },
  {
   "cell_type": "code",
   "execution_count": null,
   "id": "e904c749-7755-48a6-baeb-740125502a74",
   "metadata": {},
   "outputs": [],
   "source": [
    "actual = np.append(trainY, testY)\n",
    "predictions = np.append(train_predict, test_predict)\n",
    "rows = len(actual)\n",
    "plt.figure(figsize=(15, 6), dpi=80)\n",
    "plt.plot(range(rows), actual)\n",
    "plt.plot(range(rows), predictions)\n",
    "plt.axvline(x=len(trainY), color='r')\n",
    "plt.legend(['Actual', 'Predictions'])\n",
    "plt.xlabel('Observation number after given time steps')\n",
    "plt.ylabel('Sunspots scaled')\n",
    "plt.title('Actual and Predicted Values. The Red Line Separates The Training And Test Examples')"
   ]
  }
 ],
 "metadata": {
  "kernelspec": {
   "display_name": "Python 3",
   "language": "python",
   "name": "orchest-kernel-7962e22f-8b9b-41bc-b48c-5e23dfafd22b"
  },
  "language_info": {
   "codemirror_mode": {
    "name": "ipython",
    "version": 3
   },
   "file_extension": ".py",
   "mimetype": "text/x-python",
   "name": "python",
   "nbconvert_exporter": "python",
   "pygments_lexer": "ipython3",
   "version": "3.7.6"
  }
 },
 "nbformat": 4,
 "nbformat_minor": 5
}
